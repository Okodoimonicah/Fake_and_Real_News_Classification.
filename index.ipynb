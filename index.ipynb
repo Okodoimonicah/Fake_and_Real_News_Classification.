{
 "cells": [
  {
   "cell_type": "markdown",
   "metadata": {},
   "source": [
    "# **Fake And Real News Classification**\n",
    "\n",
    "---\n",
    "\n",
    "Authors: [Dennis Kimiri](), [Femi Kamau](https://www.github.com/ctrl-Karugu), [Monicah Iwagit](), [Teofilo Gafna](), [Wendy Mwiti](https://www.github.com/WendyMwiti)"
   ]
  },
  {
   "cell_type": "markdown",
   "metadata": {},
   "source": [
    "## 1. Business Understanding"
   ]
  },
  {
   "cell_type": "markdown",
   "metadata": {},
   "source": [
    "## 2. Data Understanding"
   ]
  },
  {
   "cell_type": "markdown",
   "metadata": {},
   "source": [
    "Load Libraries"
   ]
  },
  {
   "cell_type": "code",
   "execution_count": 1,
   "metadata": {},
   "outputs": [],
   "source": [
    "# Data Manipulation\n",
    "import pandas as pd\n",
    "import numpy as np\n",
    "\n",
    "# Data Visualisation\n",
    "import matplotlib.pyplot as plt\n",
    "import seaborn as sns\n",
    "\n",
    "# Machine Learning\n",
    "import sklearn\n",
    "import nltk\n",
    "import re\n",
    "nltk.download('stopwords', quiet=True)\n",
    "from nltk.corpus import stopwords\n",
    "from nltk.collocations import *\n",
    "from nltk import FreqDist\n",
    "from nltk.tokenize import word_tokenize, sent_tokenize, WordPunctTokenizer\n",
    "import string\n",
    "from nltk.stem import WordNetLemmatizer\n",
    "from wordcloud import WordCloud, STOPWORDS, ImageColorGenerator\n",
    "from sklearn.metrics import classification_report,confusion_matrix,accuracy_score\n",
    "from nltk.tokenize import RegexpTokenizer"
   ]
  },
  {
   "cell_type": "markdown",
   "metadata": {},
   "source": [
    "Load Data"
   ]
  },
  {
   "cell_type": "code",
   "execution_count": 2,
   "metadata": {},
   "outputs": [],
   "source": [
    "# Load the real news data\n",
    "real = pd.read_csv('./data/True.csv')\n",
    "\n",
    "# Load the fake news data\n",
    "fake = pd.read_csv('./data/Fake.csv')"
   ]
  },
  {
   "cell_type": "code",
   "execution_count": 3,
   "metadata": {},
   "outputs": [
    {
     "data": {
      "text/html": [
       "<div>\n",
       "<style scoped>\n",
       "    .dataframe tbody tr th:only-of-type {\n",
       "        vertical-align: middle;\n",
       "    }\n",
       "\n",
       "    .dataframe tbody tr th {\n",
       "        vertical-align: top;\n",
       "    }\n",
       "\n",
       "    .dataframe thead th {\n",
       "        text-align: right;\n",
       "    }\n",
       "</style>\n",
       "<table border=\"1\" class=\"dataframe\">\n",
       "  <thead>\n",
       "    <tr style=\"text-align: right;\">\n",
       "      <th></th>\n",
       "      <th>title</th>\n",
       "      <th>text</th>\n",
       "      <th>subject</th>\n",
       "      <th>date</th>\n",
       "    </tr>\n",
       "  </thead>\n",
       "  <tbody>\n",
       "    <tr>\n",
       "      <th>0</th>\n",
       "      <td>As U.S. budget fight looms, Republicans flip t...</td>\n",
       "      <td>WASHINGTON (Reuters) - The head of a conservat...</td>\n",
       "      <td>politicsNews</td>\n",
       "      <td>December 31, 2017</td>\n",
       "    </tr>\n",
       "    <tr>\n",
       "      <th>1</th>\n",
       "      <td>U.S. military to accept transgender recruits o...</td>\n",
       "      <td>WASHINGTON (Reuters) - Transgender people will...</td>\n",
       "      <td>politicsNews</td>\n",
       "      <td>December 29, 2017</td>\n",
       "    </tr>\n",
       "    <tr>\n",
       "      <th>2</th>\n",
       "      <td>Senior U.S. Republican senator: 'Let Mr. Muell...</td>\n",
       "      <td>WASHINGTON (Reuters) - The special counsel inv...</td>\n",
       "      <td>politicsNews</td>\n",
       "      <td>December 31, 2017</td>\n",
       "    </tr>\n",
       "    <tr>\n",
       "      <th>3</th>\n",
       "      <td>FBI Russia probe helped by Australian diplomat...</td>\n",
       "      <td>WASHINGTON (Reuters) - Trump campaign adviser ...</td>\n",
       "      <td>politicsNews</td>\n",
       "      <td>December 30, 2017</td>\n",
       "    </tr>\n",
       "    <tr>\n",
       "      <th>4</th>\n",
       "      <td>Trump wants Postal Service to charge 'much mor...</td>\n",
       "      <td>SEATTLE/WASHINGTON (Reuters) - President Donal...</td>\n",
       "      <td>politicsNews</td>\n",
       "      <td>December 29, 2017</td>\n",
       "    </tr>\n",
       "  </tbody>\n",
       "</table>\n",
       "</div>"
      ],
      "text/plain": [
       "                                               title  \\\n",
       "0  As U.S. budget fight looms, Republicans flip t...   \n",
       "1  U.S. military to accept transgender recruits o...   \n",
       "2  Senior U.S. Republican senator: 'Let Mr. Muell...   \n",
       "3  FBI Russia probe helped by Australian diplomat...   \n",
       "4  Trump wants Postal Service to charge 'much mor...   \n",
       "\n",
       "                                                text       subject  \\\n",
       "0  WASHINGTON (Reuters) - The head of a conservat...  politicsNews   \n",
       "1  WASHINGTON (Reuters) - Transgender people will...  politicsNews   \n",
       "2  WASHINGTON (Reuters) - The special counsel inv...  politicsNews   \n",
       "3  WASHINGTON (Reuters) - Trump campaign adviser ...  politicsNews   \n",
       "4  SEATTLE/WASHINGTON (Reuters) - President Donal...  politicsNews   \n",
       "\n",
       "                 date  \n",
       "0  December 31, 2017   \n",
       "1  December 29, 2017   \n",
       "2  December 31, 2017   \n",
       "3  December 30, 2017   \n",
       "4  December 29, 2017   "
      ]
     },
     "execution_count": 3,
     "metadata": {},
     "output_type": "execute_result"
    }
   ],
   "source": [
    "# Preview real data\n",
    "real.head()"
   ]
  },
  {
   "cell_type": "code",
   "execution_count": 4,
   "metadata": {},
   "outputs": [
    {
     "data": {
      "text/html": [
       "<div>\n",
       "<style scoped>\n",
       "    .dataframe tbody tr th:only-of-type {\n",
       "        vertical-align: middle;\n",
       "    }\n",
       "\n",
       "    .dataframe tbody tr th {\n",
       "        vertical-align: top;\n",
       "    }\n",
       "\n",
       "    .dataframe thead th {\n",
       "        text-align: right;\n",
       "    }\n",
       "</style>\n",
       "<table border=\"1\" class=\"dataframe\">\n",
       "  <thead>\n",
       "    <tr style=\"text-align: right;\">\n",
       "      <th></th>\n",
       "      <th>title</th>\n",
       "      <th>text</th>\n",
       "      <th>subject</th>\n",
       "      <th>date</th>\n",
       "    </tr>\n",
       "  </thead>\n",
       "  <tbody>\n",
       "    <tr>\n",
       "      <th>0</th>\n",
       "      <td>Donald Trump Sends Out Embarrassing New Year’...</td>\n",
       "      <td>Donald Trump just couldn t wish all Americans ...</td>\n",
       "      <td>News</td>\n",
       "      <td>December 31, 2017</td>\n",
       "    </tr>\n",
       "    <tr>\n",
       "      <th>1</th>\n",
       "      <td>Drunk Bragging Trump Staffer Started Russian ...</td>\n",
       "      <td>House Intelligence Committee Chairman Devin Nu...</td>\n",
       "      <td>News</td>\n",
       "      <td>December 31, 2017</td>\n",
       "    </tr>\n",
       "    <tr>\n",
       "      <th>2</th>\n",
       "      <td>Sheriff David Clarke Becomes An Internet Joke...</td>\n",
       "      <td>On Friday, it was revealed that former Milwauk...</td>\n",
       "      <td>News</td>\n",
       "      <td>December 30, 2017</td>\n",
       "    </tr>\n",
       "    <tr>\n",
       "      <th>3</th>\n",
       "      <td>Trump Is So Obsessed He Even Has Obama’s Name...</td>\n",
       "      <td>On Christmas day, Donald Trump announced that ...</td>\n",
       "      <td>News</td>\n",
       "      <td>December 29, 2017</td>\n",
       "    </tr>\n",
       "    <tr>\n",
       "      <th>4</th>\n",
       "      <td>Pope Francis Just Called Out Donald Trump Dur...</td>\n",
       "      <td>Pope Francis used his annual Christmas Day mes...</td>\n",
       "      <td>News</td>\n",
       "      <td>December 25, 2017</td>\n",
       "    </tr>\n",
       "  </tbody>\n",
       "</table>\n",
       "</div>"
      ],
      "text/plain": [
       "                                               title  \\\n",
       "0   Donald Trump Sends Out Embarrassing New Year’...   \n",
       "1   Drunk Bragging Trump Staffer Started Russian ...   \n",
       "2   Sheriff David Clarke Becomes An Internet Joke...   \n",
       "3   Trump Is So Obsessed He Even Has Obama’s Name...   \n",
       "4   Pope Francis Just Called Out Donald Trump Dur...   \n",
       "\n",
       "                                                text subject  \\\n",
       "0  Donald Trump just couldn t wish all Americans ...    News   \n",
       "1  House Intelligence Committee Chairman Devin Nu...    News   \n",
       "2  On Friday, it was revealed that former Milwauk...    News   \n",
       "3  On Christmas day, Donald Trump announced that ...    News   \n",
       "4  Pope Francis used his annual Christmas Day mes...    News   \n",
       "\n",
       "                date  \n",
       "0  December 31, 2017  \n",
       "1  December 31, 2017  \n",
       "2  December 30, 2017  \n",
       "3  December 29, 2017  \n",
       "4  December 25, 2017  "
      ]
     },
     "execution_count": 4,
     "metadata": {},
     "output_type": "execute_result"
    }
   ],
   "source": [
    "# Preview the fake data\n",
    "fake.head()"
   ]
  },
  {
   "cell_type": "code",
   "execution_count": 5,
   "metadata": {},
   "outputs": [],
   "source": [
    "#  Add a column called 'category' to both DataFrames which will become our taget variable\n",
    "real['category'] = 1\n",
    "fake['category'] = 0"
   ]
  },
  {
   "cell_type": "code",
   "execution_count": 6,
   "metadata": {},
   "outputs": [],
   "source": [
    "# Combine both DataFrames \n",
    "data = pd.concat([real, fake])"
   ]
  },
  {
   "cell_type": "code",
   "execution_count": 7,
   "metadata": {},
   "outputs": [
    {
     "data": {
      "text/html": [
       "<div>\n",
       "<style scoped>\n",
       "    .dataframe tbody tr th:only-of-type {\n",
       "        vertical-align: middle;\n",
       "    }\n",
       "\n",
       "    .dataframe tbody tr th {\n",
       "        vertical-align: top;\n",
       "    }\n",
       "\n",
       "    .dataframe thead th {\n",
       "        text-align: right;\n",
       "    }\n",
       "</style>\n",
       "<table border=\"1\" class=\"dataframe\">\n",
       "  <thead>\n",
       "    <tr style=\"text-align: right;\">\n",
       "      <th></th>\n",
       "      <th>title</th>\n",
       "      <th>text</th>\n",
       "      <th>subject</th>\n",
       "      <th>date</th>\n",
       "      <th>category</th>\n",
       "    </tr>\n",
       "  </thead>\n",
       "  <tbody>\n",
       "    <tr>\n",
       "      <th>0</th>\n",
       "      <td>As U.S. budget fight looms, Republicans flip t...</td>\n",
       "      <td>WASHINGTON (Reuters) - The head of a conservat...</td>\n",
       "      <td>politicsNews</td>\n",
       "      <td>December 31, 2017</td>\n",
       "      <td>1</td>\n",
       "    </tr>\n",
       "    <tr>\n",
       "      <th>1</th>\n",
       "      <td>U.S. military to accept transgender recruits o...</td>\n",
       "      <td>WASHINGTON (Reuters) - Transgender people will...</td>\n",
       "      <td>politicsNews</td>\n",
       "      <td>December 29, 2017</td>\n",
       "      <td>1</td>\n",
       "    </tr>\n",
       "    <tr>\n",
       "      <th>2</th>\n",
       "      <td>Senior U.S. Republican senator: 'Let Mr. Muell...</td>\n",
       "      <td>WASHINGTON (Reuters) - The special counsel inv...</td>\n",
       "      <td>politicsNews</td>\n",
       "      <td>December 31, 2017</td>\n",
       "      <td>1</td>\n",
       "    </tr>\n",
       "    <tr>\n",
       "      <th>3</th>\n",
       "      <td>FBI Russia probe helped by Australian diplomat...</td>\n",
       "      <td>WASHINGTON (Reuters) - Trump campaign adviser ...</td>\n",
       "      <td>politicsNews</td>\n",
       "      <td>December 30, 2017</td>\n",
       "      <td>1</td>\n",
       "    </tr>\n",
       "    <tr>\n",
       "      <th>4</th>\n",
       "      <td>Trump wants Postal Service to charge 'much mor...</td>\n",
       "      <td>SEATTLE/WASHINGTON (Reuters) - President Donal...</td>\n",
       "      <td>politicsNews</td>\n",
       "      <td>December 29, 2017</td>\n",
       "      <td>1</td>\n",
       "    </tr>\n",
       "    <tr>\n",
       "      <th>...</th>\n",
       "      <td>...</td>\n",
       "      <td>...</td>\n",
       "      <td>...</td>\n",
       "      <td>...</td>\n",
       "      <td>...</td>\n",
       "    </tr>\n",
       "    <tr>\n",
       "      <th>23476</th>\n",
       "      <td>McPain: John McCain Furious That Iran Treated ...</td>\n",
       "      <td>21st Century Wire says As 21WIRE reported earl...</td>\n",
       "      <td>Middle-east</td>\n",
       "      <td>January 16, 2016</td>\n",
       "      <td>0</td>\n",
       "    </tr>\n",
       "    <tr>\n",
       "      <th>23477</th>\n",
       "      <td>JUSTICE? Yahoo Settles E-mail Privacy Class-ac...</td>\n",
       "      <td>21st Century Wire says It s a familiar theme. ...</td>\n",
       "      <td>Middle-east</td>\n",
       "      <td>January 16, 2016</td>\n",
       "      <td>0</td>\n",
       "    </tr>\n",
       "    <tr>\n",
       "      <th>23478</th>\n",
       "      <td>Sunnistan: US and Allied ‘Safe Zone’ Plan to T...</td>\n",
       "      <td>Patrick Henningsen  21st Century WireRemember ...</td>\n",
       "      <td>Middle-east</td>\n",
       "      <td>January 15, 2016</td>\n",
       "      <td>0</td>\n",
       "    </tr>\n",
       "    <tr>\n",
       "      <th>23479</th>\n",
       "      <td>How to Blow $700 Million: Al Jazeera America F...</td>\n",
       "      <td>21st Century Wire says Al Jazeera America will...</td>\n",
       "      <td>Middle-east</td>\n",
       "      <td>January 14, 2016</td>\n",
       "      <td>0</td>\n",
       "    </tr>\n",
       "    <tr>\n",
       "      <th>23480</th>\n",
       "      <td>10 U.S. Navy Sailors Held by Iranian Military ...</td>\n",
       "      <td>21st Century Wire says As 21WIRE predicted in ...</td>\n",
       "      <td>Middle-east</td>\n",
       "      <td>January 12, 2016</td>\n",
       "      <td>0</td>\n",
       "    </tr>\n",
       "  </tbody>\n",
       "</table>\n",
       "<p>44898 rows × 5 columns</p>\n",
       "</div>"
      ],
      "text/plain": [
       "                                                   title  \\\n",
       "0      As U.S. budget fight looms, Republicans flip t...   \n",
       "1      U.S. military to accept transgender recruits o...   \n",
       "2      Senior U.S. Republican senator: 'Let Mr. Muell...   \n",
       "3      FBI Russia probe helped by Australian diplomat...   \n",
       "4      Trump wants Postal Service to charge 'much mor...   \n",
       "...                                                  ...   \n",
       "23476  McPain: John McCain Furious That Iran Treated ...   \n",
       "23477  JUSTICE? Yahoo Settles E-mail Privacy Class-ac...   \n",
       "23478  Sunnistan: US and Allied ‘Safe Zone’ Plan to T...   \n",
       "23479  How to Blow $700 Million: Al Jazeera America F...   \n",
       "23480  10 U.S. Navy Sailors Held by Iranian Military ...   \n",
       "\n",
       "                                                    text       subject  \\\n",
       "0      WASHINGTON (Reuters) - The head of a conservat...  politicsNews   \n",
       "1      WASHINGTON (Reuters) - Transgender people will...  politicsNews   \n",
       "2      WASHINGTON (Reuters) - The special counsel inv...  politicsNews   \n",
       "3      WASHINGTON (Reuters) - Trump campaign adviser ...  politicsNews   \n",
       "4      SEATTLE/WASHINGTON (Reuters) - President Donal...  politicsNews   \n",
       "...                                                  ...           ...   \n",
       "23476  21st Century Wire says As 21WIRE reported earl...   Middle-east   \n",
       "23477  21st Century Wire says It s a familiar theme. ...   Middle-east   \n",
       "23478  Patrick Henningsen  21st Century WireRemember ...   Middle-east   \n",
       "23479  21st Century Wire says Al Jazeera America will...   Middle-east   \n",
       "23480  21st Century Wire says As 21WIRE predicted in ...   Middle-east   \n",
       "\n",
       "                     date  category  \n",
       "0      December 31, 2017          1  \n",
       "1      December 29, 2017          1  \n",
       "2      December 31, 2017          1  \n",
       "3      December 30, 2017          1  \n",
       "4      December 29, 2017          1  \n",
       "...                   ...       ...  \n",
       "23476    January 16, 2016         0  \n",
       "23477    January 16, 2016         0  \n",
       "23478    January 15, 2016         0  \n",
       "23479    January 14, 2016         0  \n",
       "23480    January 12, 2016         0  \n",
       "\n",
       "[44898 rows x 5 columns]"
      ]
     },
     "execution_count": 7,
     "metadata": {},
     "output_type": "execute_result"
    }
   ],
   "source": [
    "# Preview the new DataFrame\n",
    "data"
   ]
  },
  {
   "cell_type": "code",
   "execution_count": 8,
   "metadata": {},
   "outputs": [],
   "source": [
    "class understanding(object):\n",
    "    \"\"\"A class that does basic Data Understanding\"\"\"\n",
    "    \n",
    "    def __init__(self, df):\n",
    "        self.shape = df.shape\n",
    "      # self.info = df.info()\n",
    "        self.duplicates = df.duplicated().sum()\n",
    "        self.missing = df.isna().sum()\n",
    "        self.types = df.dtypes\n",
    "    \n",
    "    def counts(self, df, col):\n",
    "        \"\"\" A function that gets the value counts of a column\"\"\"\n",
    "        self.counts = df[col].value_counts()\n",
    "        return self.counts\n",
    "    \n",
    "    def nunique(self, df, col):\n",
    "        \"\"\" A function that gets the number of unique values of a column\"\"\"\n",
    "        self.unique = df[col].nunique()\n",
    "        return self.nunique()\n",
    "        \n",
    "    def unique(self, df, col):\n",
    "        \"\"\" A function that gets the unique values of a column\"\"\"\n",
    "        self.unique = df[col].unique()\n",
    "        return self.unique"
   ]
  },
  {
   "cell_type": "code",
   "execution_count": 9,
   "metadata": {},
   "outputs": [],
   "source": [
    "# Instantiate the class\n",
    "data_understanding = understanding(data)"
   ]
  },
  {
   "cell_type": "code",
   "execution_count": 10,
   "metadata": {},
   "outputs": [
    {
     "name": "stdout",
     "output_type": "stream",
     "text": [
      "(44898, 5)\n",
      "<class 'pandas.core.frame.DataFrame'>\n",
      "Int64Index: 44898 entries, 0 to 23480\n",
      "Data columns (total 5 columns):\n",
      " #   Column    Non-Null Count  Dtype \n",
      "---  ------    --------------  ----- \n",
      " 0   title     44898 non-null  object\n",
      " 1   text      44898 non-null  object\n",
      " 2   subject   44898 non-null  object\n",
      " 3   date      44898 non-null  object\n",
      " 4   category  44898 non-null  int64 \n",
      "dtypes: int64(1), object(4)\n",
      "memory usage: 2.1+ MB\n"
     ]
    }
   ],
   "source": [
    "# Summary of the dataset\n",
    "print(data_understanding.shape)\n",
    "data.info()"
   ]
  },
  {
   "cell_type": "markdown",
   "metadata": {},
   "source": [
    "From the summary above, we can see that the dataset contain 44898 rows and spans 5 columns. The columns are: title, text, subject, date and category. The category column is the target variable and the rest are the features.\n",
    "\n",
    "Furthermore, the dataset contains 4 object columns and 1 integer column. The object columns are: title, text, subject and date. The integer column is: category (target variable). We may need to convert the date column to datetime format in the data preparation phase.\n",
    "\n",
    "The dataset does not contain any missing values."
   ]
  },
  {
   "cell_type": "code",
   "execution_count": 11,
   "metadata": {},
   "outputs": [
    {
     "name": "stdout",
     "output_type": "stream",
     "text": [
      "Duplicates: 209\n"
     ]
    }
   ],
   "source": [
    "# Check for duplicates\n",
    "print(f\"Duplicates: {data_understanding.duplicates}\")"
   ]
  },
  {
   "cell_type": "markdown",
   "metadata": {},
   "source": [
    "The dataset contains 209 duplicates. They shall be inspected and removed if necessary in the data preparation phase."
   ]
  },
  {
   "cell_type": "code",
   "execution_count": 12,
   "metadata": {},
   "outputs": [
    {
     "data": {
      "text/plain": [
       "title       0\n",
       "text        0\n",
       "subject     0\n",
       "date        0\n",
       "category    0\n",
       "dtype: int64"
      ]
     },
     "execution_count": 12,
     "metadata": {},
     "output_type": "execute_result"
    }
   ],
   "source": [
    "# Check the number of missing values\n",
    "data_understanding.missing"
   ]
  },
  {
   "cell_type": "code",
   "execution_count": 13,
   "metadata": {},
   "outputs": [
    {
     "data": {
      "text/plain": [
       "politicsNews       11272\n",
       "worldnews          10145\n",
       "News                9050\n",
       "politics            6841\n",
       "left-news           4459\n",
       "Government News     1570\n",
       "US_News              783\n",
       "Middle-east          778\n",
       "Name: subject, dtype: int64"
      ]
     },
     "execution_count": 13,
     "metadata": {},
     "output_type": "execute_result"
    }
   ],
   "source": [
    "# Inspect the subject column\n",
    "data['subject'].value_counts()"
   ]
  },
  {
   "cell_type": "markdown",
   "metadata": {},
   "source": [
    "The articles that are within this dataset fall under 8 different subjects. These are: politicsNews, worldnews, News, politics, left-news, Government News, US_News, and Middle-east."
   ]
  },
  {
   "cell_type": "code",
   "execution_count": 14,
   "metadata": {},
   "outputs": [
    {
     "data": {
      "text/plain": [
       "0    52.298543\n",
       "1    47.701457\n",
       "Name: category, dtype: float64"
      ]
     },
     "execution_count": 14,
     "metadata": {},
     "output_type": "execute_result"
    }
   ],
   "source": [
    "# Inspect the category column\n",
    "data['category'].value_counts() / len(data) * 100"
   ]
  },
  {
   "cell_type": "markdown",
   "metadata": {},
   "source": [
    "The dataset is fairly balanced between fake and real news "
   ]
  },
  {
   "cell_type": "code",
   "execution_count": 15,
   "metadata": {},
   "outputs": [
    {
     "data": {
      "text/plain": [
       "2397"
      ]
     },
     "execution_count": 15,
     "metadata": {},
     "output_type": "execute_result"
    }
   ],
   "source": [
    "# Inspect the date column\n",
    "data['date'].nunique()"
   ]
  },
  {
   "cell_type": "markdown",
   "metadata": {},
   "source": [
    "The date column contains 2397 unique dates"
   ]
  },
  {
   "cell_type": "markdown",
   "metadata": {},
   "source": [
    "## 3. Data Preparation\n"
   ]
  },
  {
   "cell_type": "markdown",
   "metadata": {},
   "source": [
    "### 3.1 Validity"
   ]
  },
  {
   "cell_type": "markdown",
   "metadata": {},
   "source": [
    "To confirm that the data in each column matches a specified data type and format.\n"
   ]
  },
  {
   "cell_type": "code",
   "execution_count": 16,
   "metadata": {},
   "outputs": [],
   "source": [
    "# Converting date from object to datetime\n",
    "data['date'] = pd.to_datetime(data['date'], dayfirst=True, errors='coerce')"
   ]
  },
  {
   "cell_type": "code",
   "execution_count": 17,
   "metadata": {},
   "outputs": [
    {
     "name": "stdout",
     "output_type": "stream",
     "text": [
      "<class 'pandas.core.frame.DataFrame'>\n",
      "Int64Index: 44898 entries, 0 to 23480\n",
      "Data columns (total 5 columns):\n",
      " #   Column    Non-Null Count  Dtype         \n",
      "---  ------    --------------  -----         \n",
      " 0   title     44898 non-null  object        \n",
      " 1   text      44898 non-null  object        \n",
      " 2   subject   44898 non-null  object        \n",
      " 3   date      44888 non-null  datetime64[ns]\n",
      " 4   category  44898 non-null  int64         \n",
      "dtypes: datetime64[ns](1), int64(1), object(3)\n",
      "memory usage: 2.1+ MB\n"
     ]
    }
   ],
   "source": [
    "# Information about the dataset\n",
    "data.info()"
   ]
  },
  {
   "cell_type": "code",
   "execution_count": 18,
   "metadata": {},
   "outputs": [
    {
     "data": {
      "text/plain": [
       "0   2017-12-31\n",
       "1   2017-12-29\n",
       "2   2017-12-31\n",
       "3   2017-12-30\n",
       "4   2017-12-29\n",
       "Name: date, dtype: datetime64[ns]"
      ]
     },
     "execution_count": 18,
     "metadata": {},
     "output_type": "execute_result"
    }
   ],
   "source": [
    "# Preview the updated date column \n",
    "data['date'].head()"
   ]
  },
  {
   "cell_type": "code",
   "execution_count": 19,
   "metadata": {},
   "outputs": [],
   "source": [
    "# Extracting the months and years\n",
    "data['year'] = data['date'].dt.year\n",
    "data['month'] = data['date'].dt.strftime('%B')\n"
   ]
  },
  {
   "cell_type": "code",
   "execution_count": 20,
   "metadata": {},
   "outputs": [
    {
     "name": "stdout",
     "output_type": "stream",
     "text": [
      "<class 'pandas.core.frame.DataFrame'>\n",
      "Int64Index: 44898 entries, 0 to 23480\n",
      "Data columns (total 7 columns):\n",
      " #   Column    Non-Null Count  Dtype         \n",
      "---  ------    --------------  -----         \n",
      " 0   title     44898 non-null  object        \n",
      " 1   text      44898 non-null  object        \n",
      " 2   subject   44898 non-null  object        \n",
      " 3   date      44888 non-null  datetime64[ns]\n",
      " 4   category  44898 non-null  int64         \n",
      " 5   year      44888 non-null  float64       \n",
      " 6   month     44888 non-null  object        \n",
      "dtypes: datetime64[ns](1), float64(1), int64(1), object(4)\n",
      "memory usage: 2.7+ MB\n"
     ]
    }
   ],
   "source": [
    "# Information about the dataset\n",
    "data.info()"
   ]
  },
  {
   "cell_type": "code",
   "execution_count": 21,
   "metadata": {},
   "outputs": [],
   "source": [
    "# Converting the subject column to category\n",
    "data['subject'] = data['subject'].astype('category')"
   ]
  },
  {
   "cell_type": "code",
   "execution_count": 22,
   "metadata": {},
   "outputs": [
    {
     "name": "stdout",
     "output_type": "stream",
     "text": [
      "<class 'pandas.core.frame.DataFrame'>\n",
      "Int64Index: 44898 entries, 0 to 23480\n",
      "Data columns (total 7 columns):\n",
      " #   Column    Non-Null Count  Dtype         \n",
      "---  ------    --------------  -----         \n",
      " 0   title     44898 non-null  object        \n",
      " 1   text      44898 non-null  object        \n",
      " 2   subject   44898 non-null  category      \n",
      " 3   date      44888 non-null  datetime64[ns]\n",
      " 4   category  44898 non-null  int64         \n",
      " 5   year      44888 non-null  float64       \n",
      " 6   month     44888 non-null  object        \n",
      "dtypes: category(1), datetime64[ns](1), float64(1), int64(1), object(3)\n",
      "memory usage: 2.4+ MB\n"
     ]
    }
   ],
   "source": [
    "# Information about the dataset\n",
    "data.info()"
   ]
  },
  {
   "cell_type": "markdown",
   "metadata": {},
   "source": [
    "### 3.2 Consistency"
   ]
  },
  {
   "cell_type": "markdown",
   "metadata": {},
   "source": [
    "To inspect the duplicates"
   ]
  },
  {
   "cell_type": "code",
   "execution_count": 23,
   "metadata": {
    "scrolled": true
   },
   "outputs": [
    {
     "data": {
      "text/html": [
       "<div>\n",
       "<style scoped>\n",
       "    .dataframe tbody tr th:only-of-type {\n",
       "        vertical-align: middle;\n",
       "    }\n",
       "\n",
       "    .dataframe tbody tr th {\n",
       "        vertical-align: top;\n",
       "    }\n",
       "\n",
       "    .dataframe thead th {\n",
       "        text-align: right;\n",
       "    }\n",
       "</style>\n",
       "<table border=\"1\" class=\"dataframe\">\n",
       "  <thead>\n",
       "    <tr style=\"text-align: right;\">\n",
       "      <th></th>\n",
       "      <th>title</th>\n",
       "      <th>text</th>\n",
       "      <th>subject</th>\n",
       "      <th>date</th>\n",
       "      <th>category</th>\n",
       "      <th>year</th>\n",
       "      <th>month</th>\n",
       "    </tr>\n",
       "  </thead>\n",
       "  <tbody>\n",
       "    <tr>\n",
       "      <th>445</th>\n",
       "      <td>Senate tax bill stalls on deficit-focused 'tri...</td>\n",
       "      <td>WASHINGTON (Reuters) - The U.S. Senate on Thur...</td>\n",
       "      <td>politicsNews</td>\n",
       "      <td>2017-11-30</td>\n",
       "      <td>1</td>\n",
       "      <td>2017.0</td>\n",
       "      <td>November</td>\n",
       "    </tr>\n",
       "    <tr>\n",
       "      <th>778</th>\n",
       "      <td>Trump warns 'rogue regime' North Korea of grav...</td>\n",
       "      <td>BEIJING (Reuters) - U.S. President Donald Trum...</td>\n",
       "      <td>politicsNews</td>\n",
       "      <td>2017-11-08</td>\n",
       "      <td>1</td>\n",
       "      <td>2017.0</td>\n",
       "      <td>November</td>\n",
       "    </tr>\n",
       "    <tr>\n",
       "      <th>892</th>\n",
       "      <td>Republicans unveil tax cut bill, but the hard ...</td>\n",
       "      <td>WASHINGTON (Reuters) - U.S. House of Represent...</td>\n",
       "      <td>politicsNews</td>\n",
       "      <td>2017-11-02</td>\n",
       "      <td>1</td>\n",
       "      <td>2017.0</td>\n",
       "      <td>November</td>\n",
       "    </tr>\n",
       "    <tr>\n",
       "      <th>896</th>\n",
       "      <td>Trump taps Fed centrist Powell to lead U.S. ce...</td>\n",
       "      <td>WASHINGTON (Reuters) - President Donald Trump ...</td>\n",
       "      <td>politicsNews</td>\n",
       "      <td>2017-11-02</td>\n",
       "      <td>1</td>\n",
       "      <td>2017.0</td>\n",
       "      <td>November</td>\n",
       "    </tr>\n",
       "    <tr>\n",
       "      <th>974</th>\n",
       "      <td>Two ex-Trump aides charged in Russia probe, th...</td>\n",
       "      <td>WASHINGTON (Reuters) - Federal investigators p...</td>\n",
       "      <td>politicsNews</td>\n",
       "      <td>2017-10-30</td>\n",
       "      <td>1</td>\n",
       "      <td>2017.0</td>\n",
       "      <td>October</td>\n",
       "    </tr>\n",
       "    <tr>\n",
       "      <th>...</th>\n",
       "      <td>...</td>\n",
       "      <td>...</td>\n",
       "      <td>...</td>\n",
       "      <td>...</td>\n",
       "      <td>...</td>\n",
       "      <td>...</td>\n",
       "      <td>...</td>\n",
       "    </tr>\n",
       "    <tr>\n",
       "      <th>21353</th>\n",
       "      <td>Thailand's ousted PM Yingluck has fled abroad:...</td>\n",
       "      <td>BANGKOK (Reuters) - Ousted Thai prime minister...</td>\n",
       "      <td>worldnews</td>\n",
       "      <td>2017-08-25</td>\n",
       "      <td>1</td>\n",
       "      <td>2017.0</td>\n",
       "      <td>August</td>\n",
       "    </tr>\n",
       "    <tr>\n",
       "      <th>21408</th>\n",
       "      <td>U.S., North Korea clash at U.N. forum over nuc...</td>\n",
       "      <td>GENEVA (Reuters) - North Korea and the United ...</td>\n",
       "      <td>worldnews</td>\n",
       "      <td>2017-08-22</td>\n",
       "      <td>1</td>\n",
       "      <td>2017.0</td>\n",
       "      <td>August</td>\n",
       "    </tr>\n",
       "    <tr>\n",
       "      <th>9942</th>\n",
       "      <td>HILLARY TWEETS MESSAGE In Defense Of DACA…OOPS...</td>\n",
       "      <td>No time to waste   we've got to fight with eve...</td>\n",
       "      <td>politics</td>\n",
       "      <td>2017-09-09</td>\n",
       "      <td>0</td>\n",
       "      <td>2017.0</td>\n",
       "      <td>September</td>\n",
       "    </tr>\n",
       "    <tr>\n",
       "      <th>11446</th>\n",
       "      <td>FORMER DEMOCRAT WARNS Young Americans: “Rioter...</td>\n",
       "      <td>Who is silencing political speech, physically...</td>\n",
       "      <td>politics</td>\n",
       "      <td>2017-03-10</td>\n",
       "      <td>0</td>\n",
       "      <td>2017.0</td>\n",
       "      <td>March</td>\n",
       "    </tr>\n",
       "    <tr>\n",
       "      <th>14925</th>\n",
       "      <td>[VIDEO] #BlackLivesMatter Terrorists Storm Dar...</td>\n",
       "      <td>They were probably just looking for a  safe sp...</td>\n",
       "      <td>politics</td>\n",
       "      <td>2015-11-16</td>\n",
       "      <td>0</td>\n",
       "      <td>2015.0</td>\n",
       "      <td>November</td>\n",
       "    </tr>\n",
       "  </tbody>\n",
       "</table>\n",
       "<p>209 rows × 7 columns</p>\n",
       "</div>"
      ],
      "text/plain": [
       "                                                   title  \\\n",
       "445    Senate tax bill stalls on deficit-focused 'tri...   \n",
       "778    Trump warns 'rogue regime' North Korea of grav...   \n",
       "892    Republicans unveil tax cut bill, but the hard ...   \n",
       "896    Trump taps Fed centrist Powell to lead U.S. ce...   \n",
       "974    Two ex-Trump aides charged in Russia probe, th...   \n",
       "...                                                  ...   \n",
       "21353  Thailand's ousted PM Yingluck has fled abroad:...   \n",
       "21408  U.S., North Korea clash at U.N. forum over nuc...   \n",
       "9942   HILLARY TWEETS MESSAGE In Defense Of DACA…OOPS...   \n",
       "11446  FORMER DEMOCRAT WARNS Young Americans: “Rioter...   \n",
       "14925  [VIDEO] #BlackLivesMatter Terrorists Storm Dar...   \n",
       "\n",
       "                                                    text       subject  \\\n",
       "445    WASHINGTON (Reuters) - The U.S. Senate on Thur...  politicsNews   \n",
       "778    BEIJING (Reuters) - U.S. President Donald Trum...  politicsNews   \n",
       "892    WASHINGTON (Reuters) - U.S. House of Represent...  politicsNews   \n",
       "896    WASHINGTON (Reuters) - President Donald Trump ...  politicsNews   \n",
       "974    WASHINGTON (Reuters) - Federal investigators p...  politicsNews   \n",
       "...                                                  ...           ...   \n",
       "21353  BANGKOK (Reuters) - Ousted Thai prime minister...     worldnews   \n",
       "21408  GENEVA (Reuters) - North Korea and the United ...     worldnews   \n",
       "9942   No time to waste   we've got to fight with eve...      politics   \n",
       "11446   Who is silencing political speech, physically...      politics   \n",
       "14925  They were probably just looking for a  safe sp...      politics   \n",
       "\n",
       "            date  category    year      month  \n",
       "445   2017-11-30         1  2017.0   November  \n",
       "778   2017-11-08         1  2017.0   November  \n",
       "892   2017-11-02         1  2017.0   November  \n",
       "896   2017-11-02         1  2017.0   November  \n",
       "974   2017-10-30         1  2017.0    October  \n",
       "...          ...       ...     ...        ...  \n",
       "21353 2017-08-25         1  2017.0     August  \n",
       "21408 2017-08-22         1  2017.0     August  \n",
       "9942  2017-09-09         0  2017.0  September  \n",
       "11446 2017-03-10         0  2017.0      March  \n",
       "14925 2015-11-16         0  2015.0   November  \n",
       "\n",
       "[209 rows x 7 columns]"
      ]
     },
     "execution_count": 23,
     "metadata": {},
     "output_type": "execute_result"
    }
   ],
   "source": [
    "# Create a dataframe for the duplicated to be inspected\n",
    "duplicates  = data[data.duplicated()]\n",
    "duplicates"
   ]
  },
  {
   "cell_type": "code",
   "execution_count": 24,
   "metadata": {},
   "outputs": [
    {
     "name": "stdout",
     "output_type": "stream",
     "text": [
      "Before dropping: 44898\n",
      "After dropping: 44689\n"
     ]
    }
   ],
   "source": [
    "# Drop the duplicates\n",
    "print(f\"Before dropping: {len(data)}\")\n",
    "data.drop_duplicates(inplace=True)\n",
    "print(f\"After dropping: {len(data)}\")\n"
   ]
  },
  {
   "cell_type": "markdown",
   "metadata": {},
   "source": [
    "### 3.3 Completeness"
   ]
  },
  {
   "cell_type": "markdown",
   "metadata": {},
   "source": [
    "From data understanding section we found there to be no missing values. Therefore we can confirm that the the dataset is complete."
   ]
  },
  {
   "cell_type": "markdown",
   "metadata": {},
   "source": [
    "### 3.4 Uniformity"
   ]
  },
  {
   "cell_type": "markdown",
   "metadata": {},
   "source": [
    " To check on whether different systems refer to the same value in the same format"
   ]
  },
  {
   "cell_type": "code",
   "execution_count": 25,
   "metadata": {},
   "outputs": [
    {
     "data": {
      "text/plain": [
       "politicsNews       11220\n",
       "worldnews           9991\n",
       "News                9050\n",
       "politics            6838\n",
       "left-news           4459\n",
       "Government News     1570\n",
       "US_News              783\n",
       "Middle-east          778\n",
       "Name: subject, dtype: int64"
      ]
     },
     "execution_count": 25,
     "metadata": {},
     "output_type": "execute_result"
    }
   ],
   "source": [
    "# Check the value counts of the subject column\n",
    "data['subject'].value_counts()"
   ]
  },
  {
   "cell_type": "code",
   "execution_count": 26,
   "metadata": {},
   "outputs": [],
   "source": [
    "# Rename the categories in the subject column\n",
    "data['subject'].replace({'politicsNews': 'politics',\n",
    "                         'worldnews': 'world_news',\n",
    "                         'News': 'news',\n",
    "                         'left-news': 'left_news',\n",
    "                         'Government News': 'government_news',\n",
    "                         'US_News': 'us_news',\n",
    "                         'Middle-east': 'middle_east'}, inplace=True)\n"
   ]
  },
  {
   "cell_type": "code",
   "execution_count": 27,
   "metadata": {},
   "outputs": [
    {
     "data": {
      "text/plain": [
       "politics           18058\n",
       "world_news          9991\n",
       "news                9050\n",
       "left_news           4459\n",
       "government_news     1570\n",
       "us_news              783\n",
       "middle_east          778\n",
       "Name: subject, dtype: int64"
      ]
     },
     "execution_count": 27,
     "metadata": {},
     "output_type": "execute_result"
    }
   ],
   "source": [
    "# Preview the updated subject column value counts\n",
    "data['subject'].value_counts()"
   ]
  },
  {
   "cell_type": "markdown",
   "metadata": {},
   "source": [
    "### 3.5 Exploratory Data Analysis"
   ]
  },
  {
   "cell_type": "markdown",
   "metadata": {},
   "source": [
    "#### 3.5.1 Univariate Analysis"
   ]
  },
  {
   "cell_type": "code",
   "execution_count": 28,
   "metadata": {},
   "outputs": [],
   "source": [
    "# Create a function that visualizes the value counts of a column\n",
    "def plot_bar(df, col)-> None:\n",
    "    \"\"\" A function that returns a plot count of columns\"\"\"\n",
    "    plt.figure(figsize=(12,8))\n",
    "    sns.countplot(data=df, x = col, order=df[col].value_counts().index)\n",
    "    plt.title(f\"{col.title} count plot\")\n",
    "    plt.ylabel(\"count\")\n",
    "    plt.xticks(rotation=45)\n",
    "    plt.show()\n",
    "    "
   ]
  },
  {
   "cell_type": "markdown",
   "metadata": {},
   "source": [
    "##### 3.5.1.1 `subject`"
   ]
  },
  {
   "cell_type": "code",
   "execution_count": 29,
   "metadata": {},
   "outputs": [
    {
     "data": {
      "image/png": "[encoded data removed]",
      "text/plain": [
       "<Figure size 864x576 with 1 Axes>"
      ]
     },
     "metadata": {
      "needs_background": "light"
     },
     "output_type": "display_data"
    }
   ],
   "source": [
    "# Plotting a countplot of the subject\n",
    "plot_bar(data, 'subject')"
   ]
  },
  {
   "cell_type": "markdown",
   "metadata": {},
   "source": [
    "Observations:\n",
    "* Most of the published news talk about politics followed by world news while the least discussed subject is the Middle East"
   ]
  },
  {
   "cell_type": "markdown",
   "metadata": {},
   "source": [
    "##### 3.5.1.2 `month`"
   ]
  },
  {
   "cell_type": "code",
   "execution_count": 30,
   "metadata": {},
   "outputs": [
    {
     "data": {
      "image/png": "[encoded data removed]",
      "text/plain": [
       "<Figure size 864x576 with 1 Axes>"
      ]
     },
     "metadata": {
      "needs_background": "light"
     },
     "output_type": "display_data"
    }
   ],
   "source": [
    "# Plotting a countplot of the Months\n",
    "plot_bar(data, 'month')"
   ]
  },
  {
   "cell_type": "markdown",
   "metadata": {},
   "source": [
    "Observations:\n",
    "* Most of the news is published during the month of November followed by October and September.\n",
    "* It is also worth noting that the months of September and October precede November.\n",
    "* The month of August registered the least number of published news"
   ]
  },
  {
   "cell_type": "markdown",
   "metadata": {},
   "source": [
    "##### 3.5.1.3 `year`"
   ]
  },
  {
   "cell_type": "code",
   "execution_count": 31,
   "metadata": {},
   "outputs": [
    {
     "data": {
      "image/png": "[encoded data removed]",
      "text/plain": [
       "<Figure size 864x576 with 1 Axes>"
      ]
     },
     "metadata": {
      "needs_background": "light"
     },
     "output_type": "display_data"
    }
   ],
   "source": [
    "# Plotting the years\n",
    "plot_bar(data, 'year')"
   ]
  },
  {
   "cell_type": "markdown",
   "metadata": {},
   "source": [
    "Observations:\n",
    "* 2017 had the most news followed by 2016"
   ]
  },
  {
   "cell_type": "markdown",
   "metadata": {},
   "source": [
    "##### 3.5.1.4 `category`"
   ]
  },
  {
   "cell_type": "code",
   "execution_count": 32,
   "metadata": {},
   "outputs": [
    {
     "data": {
      "image/png": "[encoded data removed]",
      "text/plain": [
       "<Figure size 864x576 with 1 Axes>"
      ]
     },
     "metadata": {
      "needs_background": "light"
     },
     "output_type": "display_data"
    },
    {
     "data": {
      "image/png": "[encoded data removed]",
      "text/plain": [
       "<Figure size 864x576 with 1 Axes>"
      ]
     },
     "metadata": {},
     "output_type": "display_data"
    }
   ],
   "source": [
    "# Plotting fake vs Real news\n",
    "plot_bar(data, 'category')\n",
    "\n",
    "# Plotting a pie chart for the column 'category'\n",
    "fig, ax = plt.subplots(figsize=(12,8))\n",
    "data['category'].value_counts().plot(kind='pie', autopct='%.0f%%');"
   ]
  },
  {
   "cell_type": "markdown",
   "metadata": {},
   "source": [
    "Observations:\n",
    "* The data set is fairly balanced. However, fake news is slightly more than real news."
   ]
  },
  {
   "cell_type": "markdown",
   "metadata": {},
   "source": [
    "#### 3.5.2 Bivariate Analysis"
   ]
  },
  {
   "cell_type": "code",
   "execution_count": 33,
   "metadata": {},
   "outputs": [],
   "source": [
    "# Creating a function that plots a count plot with respect to another column\n",
    "def plot_bivariate(df, col, by):\n",
    "    plt.figure(figsize=(12,8))\n",
    "    sns.countplot(data=df, x=col, hue=by)\n",
    "    plt.title(f\"{col} count plot by {by}\")\n",
    "    plt.ylabel(\"count\")\n",
    "    plt.xticks(rotation=45)\n",
    "    plt.show()"
   ]
  },
  {
   "cell_type": "markdown",
   "metadata": {},
   "source": [
    "##### 3.5.2.1 `month` & `category`"
   ]
  },
  {
   "cell_type": "code",
   "execution_count": 34,
   "metadata": {},
   "outputs": [
    {
     "data": {
      "image/png": "[encoded data removed]",
      "text/plain": [
       "<Figure size 864x576 with 1 Axes>"
      ]
     },
     "metadata": {
      "needs_background": "light"
     },
     "output_type": "display_data"
    }
   ],
   "source": [
    "# Plotting month by category\n",
    "plot_bivariate(data, 'month', 'category')"
   ]
  },
  {
   "cell_type": "markdown",
   "metadata": {},
   "source": [
    "Observations:\n",
    "* "
   ]
  },
  {
   "cell_type": "markdown",
   "metadata": {},
   "source": [
    "##### 3.5.2.2 `year` & `category`"
   ]
  },
  {
   "cell_type": "code",
   "execution_count": 35,
   "metadata": {},
   "outputs": [
    {
     "data": {
      "image/png": "[encoded data removed]",
      "text/plain": [
       "<Figure size 864x576 with 1 Axes>"
      ]
     },
     "metadata": {
      "needs_background": "light"
     },
     "output_type": "display_data"
    }
   ],
   "source": [
    "# plot year by category\n",
    "plot_bivariate(data, 'year', 'category')"
   ]
  },
  {
   "cell_type": "markdown",
   "metadata": {},
   "source": [
    "Observations:\n",
    "* "
   ]
  },
  {
   "cell_type": "markdown",
   "metadata": {},
   "source": [
    "##### 3.5.2.3 `subject` & `category`"
   ]
  },
  {
   "cell_type": "code",
   "execution_count": 36,
   "metadata": {},
   "outputs": [
    {
     "data": {
      "image/png": "[encoded data removed]",
      "text/plain": [
       "<Figure size 864x576 with 1 Axes>"
      ]
     },
     "metadata": {
      "needs_background": "light"
     },
     "output_type": "display_data"
    }
   ],
   "source": [
    "plot_bivariate(data, 'subject', 'category')"
   ]
  },
  {
   "cell_type": "markdown",
   "metadata": {},
   "source": [
    "Observations:\n",
    "* "
   ]
  },
  {
   "cell_type": "code",
   "execution_count": 37,
   "metadata": {},
   "outputs": [],
   "source": [
    "# # creating a function that plots a column versus another column\n",
    "# def plot_x_v_y(df, x, y):\n",
    "    "
   ]
  },
  {
   "cell_type": "markdown",
   "metadata": {},
   "source": [
    "## 4. Modeling"
   ]
  },
  {
   "cell_type": "markdown",
   "metadata": {},
   "source": [
    "### 4.1 Data Preprocessing"
   ]
  },
  {
   "cell_type": "code",
   "execution_count": 38,
   "metadata": {},
   "outputs": [
    {
     "data": {
      "text/html": [
       "<div>\n",
       "<style scoped>\n",
       "    .dataframe tbody tr th:only-of-type {\n",
       "        vertical-align: middle;\n",
       "    }\n",
       "\n",
       "    .dataframe tbody tr th {\n",
       "        vertical-align: top;\n",
       "    }\n",
       "\n",
       "    .dataframe thead th {\n",
       "        text-align: right;\n",
       "    }\n",
       "</style>\n",
       "<table border=\"1\" class=\"dataframe\">\n",
       "  <thead>\n",
       "    <tr style=\"text-align: right;\">\n",
       "      <th></th>\n",
       "      <th>title</th>\n",
       "      <th>text</th>\n",
       "      <th>category</th>\n",
       "    </tr>\n",
       "  </thead>\n",
       "  <tbody>\n",
       "    <tr>\n",
       "      <th>0</th>\n",
       "      <td>As U.S. budget fight looms, Republicans flip t...</td>\n",
       "      <td>WASHINGTON (Reuters) - The head of a conservat...</td>\n",
       "      <td>1</td>\n",
       "    </tr>\n",
       "    <tr>\n",
       "      <th>1</th>\n",
       "      <td>U.S. military to accept transgender recruits o...</td>\n",
       "      <td>WASHINGTON (Reuters) - Transgender people will...</td>\n",
       "      <td>1</td>\n",
       "    </tr>\n",
       "    <tr>\n",
       "      <th>2</th>\n",
       "      <td>Senior U.S. Republican senator: 'Let Mr. Muell...</td>\n",
       "      <td>WASHINGTON (Reuters) - The special counsel inv...</td>\n",
       "      <td>1</td>\n",
       "    </tr>\n",
       "    <tr>\n",
       "      <th>3</th>\n",
       "      <td>FBI Russia probe helped by Australian diplomat...</td>\n",
       "      <td>WASHINGTON (Reuters) - Trump campaign adviser ...</td>\n",
       "      <td>1</td>\n",
       "    </tr>\n",
       "    <tr>\n",
       "      <th>4</th>\n",
       "      <td>Trump wants Postal Service to charge 'much mor...</td>\n",
       "      <td>SEATTLE/WASHINGTON (Reuters) - President Donal...</td>\n",
       "      <td>1</td>\n",
       "    </tr>\n",
       "  </tbody>\n",
       "</table>\n",
       "</div>"
      ],
      "text/plain": [
       "                                               title  \\\n",
       "0  As U.S. budget fight looms, Republicans flip t...   \n",
       "1  U.S. military to accept transgender recruits o...   \n",
       "2  Senior U.S. Republican senator: 'Let Mr. Muell...   \n",
       "3  FBI Russia probe helped by Australian diplomat...   \n",
       "4  Trump wants Postal Service to charge 'much mor...   \n",
       "\n",
       "                                                text  category  \n",
       "0  WASHINGTON (Reuters) - The head of a conservat...         1  \n",
       "1  WASHINGTON (Reuters) - Transgender people will...         1  \n",
       "2  WASHINGTON (Reuters) - The special counsel inv...         1  \n",
       "3  WASHINGTON (Reuters) - Trump campaign adviser ...         1  \n",
       "4  SEATTLE/WASHINGTON (Reuters) - President Donal...         1  "
      ]
     },
     "execution_count": 38,
     "metadata": {},
     "output_type": "execute_result"
    }
   ],
   "source": [
    "# Dropping columns that will not be used in text classfication\n",
    "data.drop(columns=['date', 'month', 'subject', 'year'], axis=1, inplace=True)\n",
    "data.head()"
   ]
  },
  {
   "cell_type": "code",
   "execution_count": 39,
   "metadata": {
    "scrolled": true
   },
   "outputs": [
    {
     "data": {
      "text/html": [
       "<div>\n",
       "<style scoped>\n",
       "    .dataframe tbody tr th:only-of-type {\n",
       "        vertical-align: middle;\n",
       "    }\n",
       "\n",
       "    .dataframe tbody tr th {\n",
       "        vertical-align: top;\n",
       "    }\n",
       "\n",
       "    .dataframe thead th {\n",
       "        text-align: right;\n",
       "    }\n",
       "</style>\n",
       "<table border=\"1\" class=\"dataframe\">\n",
       "  <thead>\n",
       "    <tr style=\"text-align: right;\">\n",
       "      <th></th>\n",
       "      <th>title</th>\n",
       "      <th>text</th>\n",
       "      <th>category</th>\n",
       "    </tr>\n",
       "  </thead>\n",
       "  <tbody>\n",
       "    <tr>\n",
       "      <th>0</th>\n",
       "      <td>Merkel, Juncker discuss Catalan crisis: EU off...</td>\n",
       "      <td>BRUSSELS (Reuters) - German Chancellor Angela ...</td>\n",
       "      <td>1</td>\n",
       "    </tr>\n",
       "    <tr>\n",
       "      <th>1</th>\n",
       "      <td>LIBERAL HACK KATIE COURIC Says Fake News Is “T...</td>\n",
       "      <td>Katie Couric is a wolf in sheep s clothing. Da...</td>\n",
       "      <td>0</td>\n",
       "    </tr>\n",
       "    <tr>\n",
       "      <th>2</th>\n",
       "      <td>TRUMP WAS RIGHT! Audit Reveals State Dept. Cyb...</td>\n",
       "      <td>New documents appear to show a pattern of dete...</td>\n",
       "      <td>0</td>\n",
       "    </tr>\n",
       "    <tr>\n",
       "      <th>3</th>\n",
       "      <td>Clay Aiken Says He Was A ‘F*****g Dumbass’ Fo...</td>\n",
       "      <td>Former  American Idol  finalist and  Celebrity...</td>\n",
       "      <td>0</td>\n",
       "    </tr>\n",
       "    <tr>\n",
       "      <th>4</th>\n",
       "      <td>U.S. militia girds for trouble as presidential...</td>\n",
       "      <td>JACKSON, Ga. (Reuters) - Down a Georgia count...</td>\n",
       "      <td>1</td>\n",
       "    </tr>\n",
       "  </tbody>\n",
       "</table>\n",
       "</div>"
      ],
      "text/plain": [
       "                                               title  \\\n",
       "0  Merkel, Juncker discuss Catalan crisis: EU off...   \n",
       "1  LIBERAL HACK KATIE COURIC Says Fake News Is “T...   \n",
       "2  TRUMP WAS RIGHT! Audit Reveals State Dept. Cyb...   \n",
       "3   Clay Aiken Says He Was A ‘F*****g Dumbass’ Fo...   \n",
       "4  U.S. militia girds for trouble as presidential...   \n",
       "\n",
       "                                                text  category  \n",
       "0  BRUSSELS (Reuters) - German Chancellor Angela ...         1  \n",
       "1  Katie Couric is a wolf in sheep s clothing. Da...         0  \n",
       "2  New documents appear to show a pattern of dete...         0  \n",
       "3  Former  American Idol  finalist and  Celebrity...         0  \n",
       "4   JACKSON, Ga. (Reuters) - Down a Georgia count...         1  "
      ]
     },
     "execution_count": 39,
     "metadata": {},
     "output_type": "execute_result"
    }
   ],
   "source": [
    "# Reshuffle the rows in the dataset\n",
    "data = data.sample(frac=1, random_state=42).reset_index(drop=True)\n",
    "data.head()"
   ]
  },
  {
   "cell_type": "code",
   "execution_count": 40,
   "metadata": {},
   "outputs": [],
   "source": [
    "# Concatenate the 'title' and 'text' columns\n",
    "data['article'] = data['title'].astype(str) +\"-\"+ data['text']"
   ]
  },
  {
   "cell_type": "code",
   "execution_count": 41,
   "metadata": {},
   "outputs": [
    {
     "data": {
      "text/html": [
       "<div>\n",
       "<style scoped>\n",
       "    .dataframe tbody tr th:only-of-type {\n",
       "        vertical-align: middle;\n",
       "    }\n",
       "\n",
       "    .dataframe tbody tr th {\n",
       "        vertical-align: top;\n",
       "    }\n",
       "\n",
       "    .dataframe thead th {\n",
       "        text-align: right;\n",
       "    }\n",
       "</style>\n",
       "<table border=\"1\" class=\"dataframe\">\n",
       "  <thead>\n",
       "    <tr style=\"text-align: right;\">\n",
       "      <th></th>\n",
       "      <th>title</th>\n",
       "      <th>text</th>\n",
       "      <th>category</th>\n",
       "      <th>article</th>\n",
       "    </tr>\n",
       "  </thead>\n",
       "  <tbody>\n",
       "    <tr>\n",
       "      <th>0</th>\n",
       "      <td>Merkel, Juncker discuss Catalan crisis: EU off...</td>\n",
       "      <td>BRUSSELS (Reuters) - German Chancellor Angela ...</td>\n",
       "      <td>1</td>\n",
       "      <td>merkel, juncker discuss catalan crisis: eu off...</td>\n",
       "    </tr>\n",
       "    <tr>\n",
       "      <th>1</th>\n",
       "      <td>LIBERAL HACK KATIE COURIC Says Fake News Is “T...</td>\n",
       "      <td>Katie Couric is a wolf in sheep s clothing. Da...</td>\n",
       "      <td>0</td>\n",
       "      <td>liberal hack katie couric says fake news is “t...</td>\n",
       "    </tr>\n",
       "    <tr>\n",
       "      <th>2</th>\n",
       "      <td>TRUMP WAS RIGHT! Audit Reveals State Dept. Cyb...</td>\n",
       "      <td>New documents appear to show a pattern of dete...</td>\n",
       "      <td>0</td>\n",
       "      <td>trump was right! audit reveals state dept. cyb...</td>\n",
       "    </tr>\n",
       "    <tr>\n",
       "      <th>3</th>\n",
       "      <td>Clay Aiken Says He Was A ‘F*****g Dumbass’ Fo...</td>\n",
       "      <td>Former  American Idol  finalist and  Celebrity...</td>\n",
       "      <td>0</td>\n",
       "      <td>clay aiken says he was a ‘f*****g dumbass’ fo...</td>\n",
       "    </tr>\n",
       "    <tr>\n",
       "      <th>4</th>\n",
       "      <td>U.S. militia girds for trouble as presidential...</td>\n",
       "      <td>JACKSON, Ga. (Reuters) - Down a Georgia count...</td>\n",
       "      <td>1</td>\n",
       "      <td>u.s. militia girds for trouble as presidential...</td>\n",
       "    </tr>\n",
       "  </tbody>\n",
       "</table>\n",
       "</div>"
      ],
      "text/plain": [
       "                                               title  \\\n",
       "0  Merkel, Juncker discuss Catalan crisis: EU off...   \n",
       "1  LIBERAL HACK KATIE COURIC Says Fake News Is “T...   \n",
       "2  TRUMP WAS RIGHT! Audit Reveals State Dept. Cyb...   \n",
       "3   Clay Aiken Says He Was A ‘F*****g Dumbass’ Fo...   \n",
       "4  U.S. militia girds for trouble as presidential...   \n",
       "\n",
       "                                                text  category  \\\n",
       "0  BRUSSELS (Reuters) - German Chancellor Angela ...         1   \n",
       "1  Katie Couric is a wolf in sheep s clothing. Da...         0   \n",
       "2  New documents appear to show a pattern of dete...         0   \n",
       "3  Former  American Idol  finalist and  Celebrity...         0   \n",
       "4   JACKSON, Ga. (Reuters) - Down a Georgia count...         1   \n",
       "\n",
       "                                             article  \n",
       "0  merkel, juncker discuss catalan crisis: eu off...  \n",
       "1  liberal hack katie couric says fake news is “t...  \n",
       "2  trump was right! audit reveals state dept. cyb...  \n",
       "3   clay aiken says he was a ‘f*****g dumbass’ fo...  \n",
       "4  u.s. militia girds for trouble as presidential...  "
      ]
     },
     "execution_count": 41,
     "metadata": {},
     "output_type": "execute_result"
    }
   ],
   "source": [
    "# Convert the article column to lowercase strings\n",
    "data['article'] = data['article'].str.lower()\n",
    "data.head()"
   ]
  },
  {
   "cell_type": "code",
   "execution_count": 42,
   "metadata": {},
   "outputs": [],
   "source": [
    "# Breaking down the text column into tokens\n",
    "tokenizer = RegexpTokenizer(r'\\w+')\n",
    "data[\"article\"] = data[\"article\"].apply(tokenizer.tokenize)"
   ]
  },
  {
   "cell_type": "code",
   "execution_count": 43,
   "metadata": {},
   "outputs": [
    {
     "name": "stdout",
     "output_type": "stream",
     "text": [
      "['liberal', 'hack', 'katie', 'couric', 'says', 'fake', 'news', 'is', 'tearing', 'america', 'apart', 'doesn', 't', 'mention', '12', 'million', 'dollar', 'lawsuit', 'against', 'her', 'for', 'producing', 'edited', 'story', 'to', 'push', 'gun', 'control', 'video', 'katie', 'couric', 'is', 'a', 'wolf', 'in', 'sheep', 's', 'clothing', 'dan', 'rather', 'brian', 'williams', 'and', 'katie', 'couric', 'will', 'forever', 'be', 'known', 'as', 'some', 'of', 'the', 'worst', 'liars', 'at', 'cbs', 'and', 'nbc', 'two', 'of', 'the', 'three', 'major', 'news', 'networks', 'where', 'most', 'americans', 'used', 'to', 'go', 'to', 'get', 'their', 'news', 'katie', 'couric', 'who', 'still', 'faces', 'a', '12', 'million', 'defamation', 'lawsuit', 'stemming', 'from', 'a', 'deceptive', 'edit', 'in', 'a', 'film', 'she', 'produced', 'decried', 'the', 'effect', 'of', 'fake', 'news', 'on', 'america', 'during', 'an', 'interview', 'on', 'thursday', 'couric', 'told', 'the', 'new', 'york', 'daily', 'news', 'she', 'believes', 'fake', 'news', 'is', 'tearing', 'america', 'apart', 'at', 'the', 'seams', 'while', 'discussing', 'her', 'latest', 'effort', 'cohosting', 'a', 'music', 'and', 'politics', 'event', 'in', 'new', 'york', 'city', 'i', 'remember', 'i', 'got', 'sent', 'a', 'lot', 'of', 'stories', 'from', 'friends', 'who', 'were', 'quite', 'educated', 'and', 'were', 'like', 'did', 'you', 'see', 'this', 'couric', 'said', 'and', 'i', 'would', 'say', 'come', 'on', 'you', 're', 'kidding', 'right', 'this', 'is', 'bs', 'she', 'did', 'not', 'mention', 'the', 'controversy', 'surrounding', 'a', 'deceptive', 'edit', 'included', 'in', 'her', '2016', 'film', 'under', 'the', 'gun', 'during', 'one', 'scene', 'in', 'the', 'movie', 'couric', 'is', 'shown', 'asking', 'a', 'group', 'of', 'gun', 'rights', 'activists', 'from', 'the', 'virginia', 'citizens', 'defense', 'league', 'a', 'question', 'about', 'background', 'checks', 'the', 'group', 'is', 'then', 'shown', 'sitting', 'in', 'silence', 'for', 'nine', 'seconds', 'with', 'nobody', 'offering', 'a', 'response', 'to', 'the', 'question', 'wfblisten', 'to', 'rush', 'limbaugh', 'explain', 'why', 'katie', 'couric', 'is', 'not', 'a', 'good', 'person', 'and', 'not', 'a', 'nice', 'woman', 'the', 'makers', 'of', 'a', 'new', 'katie', 'couric', 'documentary', 'on', 'gun', 'violence', 'deceptively', 'edited', 'an', 'interview', 'between', 'couric', 'and', 'a', 'group', 'of', 'gun', 'rights', 'activists', 'in', 'an', 'apparent', 'attempt', 'to', 'embarrass', 'the', 'activists', 'an', 'audio', 'recording', 'of', 'the', 'full', 'interview', 'shows', 'at', 'the', '21', '48', 'mark', 'of', 'under', 'the', 'gun', 'a', 'scene', 'of', 'katie', 'couric', 'interviewing', 'members', 'of', 'the', 'virginia', 'citizens', 'defense', 'league', 'a', 'gun', 'rights', 'organization', 'is', 'shown', 'couric', 'can', 'be', 'heard', 'in', 'the', 'interview', 'asking', 'activists', 'from', 'the', 'group', 'if', 'there', 'are', 'no', 'background', 'checks', 'for', 'gun', 'purchasers', 'how', 'do', 'you', 'prevent', 'felons', 'or', 'terrorists', 'from', 'purchasing', 'a', 'gun', 'the', 'documentary', 'then', 'shows', 'the', 'activists', 'sitting', 'silently', 'for', 'nine', 'awkward', 'seconds', 'unable', 'to', 'provide', 'an', 'answer', 'it', 'then', 'cuts', 'to', 'the', 'next', 'scene', 'the', 'moment', 'can', 'be', 'watched', 'here', 'however', 'raw', 'audio', 'of', 'the', 'interview', 'between', 'katie', 'couric', 'and', 'the', 'activists', 'provided', 'to', 'the', 'washington', 'free', 'beacon', 'shows', 'the', 'scene', 'was', 'deceptively', 'edited', 'instead', 'of', 'silence', 'couric', 's', 'question', 'is', 'met', 'immediately', 'with', 'answers', 'from', 'the', 'activists', 'a', 'back', 'and', 'forth', 'between', 'a', 'number', 'of', 'the', 'league', 's', 'members', 'and', 'couric', 'over', 'the', 'issue', 'of', 'background', 'checks', 'proceeds', 'for', 'more', 'than', 'four', 'minutes', 'after', 'the', 'original', 'question', 'is', 'asked', 'listen', 'here', 'john', 'lott', 'jr', 'explains', 'to', 'the', 'blaze', 's', 'dana', 'loesch', 'how', 'this', 'documentary', 'was', 'rigged', 'from', 'the', 'outset', 'under', 'the', 'gun', 'has', 'been', 'labeled', 'dishonest', 'politicking', 'in', 'the', 'guise', 'of', 'media', 'coverage', 'loose', 'with', 'the', 'facts', 'and', 'a', 'full', 'length', 'assault', 'on', 'guns', 'and', 'the', 'second', 'amendment', 'by', 'those', 'in', 'the', 'gun', 'community', 'since', 'its', 'debut', 'on', 'may', '15', 'the', 'virginia', 'citizens', 'defense', 'league', 'labeled', 'the', 'deceptively', 'edited', 'segment', 'featured', 'in', 'the', 'film', 'unbelievable', 'and', 'extremely', 'unprofessional', 'philip', 'van', 'cleave', 'the', 'organization', 's', 'president', 'said', 'the', 'editing', 'was', 'done', 'deliberately', 'to', 'make', 'it', 'appear', 'that', 'league', 'members', 'didn', 't', 'have', 'a', 'response', 'to', 'couric', 's', 'question', 'katie', 'couric', 'asked', 'a', 'key', 'question', 'during', 'an', 'interview', 'of', 'some', 'members', 'of', 'our', 'organization', 'he', 'said', 'she', 'then', 'intentionally', 'removed', 'their', 'answers', 'and', 'spliced', 'in', 'nine', 'seconds', 'of', 'some', 'prior', 'video', 'of', 'our', 'members', 'sitting', 'quietly', 'and', 'not', 'responding', 'viewers', 'are', 'left', 'with', 'the', 'misunderstanding', 'that', 'the', 'members', 'had', 'no', 'answer', 'to', 'her', 'question', 'nora', 'ryan', 'the', 'chief', 'of', 'staff', 'for', 'epix', 'the', 'cable', 'channel', 'that', 'is', 'airing', 'the', 'documentary', 'told', 'the', 'free', 'beacon', 'in', 'an', 'email', 'under', 'the', 'gun', 'is', 'a', 'critically', 'acclaimed', 'documentary', 'that', 'looks', 'at', 'the', 'polarizing', 'and', 'politicized', 'issue', 'of', 'gun', 'violence', 'a', 'subject', 'that', 'elicits', 'strong', 'reactions', 'from', 'people', 'on', 'both', 'sides', 'epix', 'stands', 'behind', 'katie', 'couric', 'director', 'stephanie', 'soechtig', 'and', 'their', 'creative', 'and', 'editorial', 'judgment', 'we', 'encourage', 'people', 'to', 'watch', 'the', 'film', 'and', 'decide', 'for', 'themselves', 'via', 'wfb']\n",
      "['trump', 'was', 'right', 'audit', 'reveals', 'state', 'dept', 'cybersecurity', 'deteriorated', 'under', 'clinton', 'new', 'documents', 'appear', 'to', 'show', 'a', 'pattern', 'of', 'deterioration', 'of', 'security', 'at', 'the', 'state', 'department', 'under', 'hillary', 'clinton', 'the', 'state', 'department', 's', 'compliance', 'with', 'federal', 'cybersecurity', 'standards', 'was', 'below', 'average', 'when', 'clinton', 'took', 'over', 'but', 'grew', 'worse', 'in', 'each', 'year', 'of', 'her', 'tenure', 'according', 'to', 'an', 'annual', 'report', 'card', 'compiled', 'by', 'the', 'white', 'house', 'based', 'on', 'audits', 'by', 'agency', 'watchdogs', 'network', 'security', 'continued', 'to', 'slip', 'after', 'kerry', 'replaced', 'clinton', 'in', 'february', '2013', 'and', 'remains', 'substandard', 'according', 'to', 'the', 'state', 'department', 'inspector', 'general', 'in', 'each', 'year', 'from', '2011', 'to', '2014', 'the', 'state', 'department', 's', 'poor', 'cybersecurity', 'was', 'identified', 'by', 'the', 'inspector', 'general', 'as', 'a', 'significant', 'deficiency', 'that', 'put', 'the', 'department', 's', 'information', 'at', 'risk', 'the', 'latest', 'assessment', 'is', 'due', 'to', 'be', 'published', 'in', 'a', 'few', 'weeks', 'clinton', 'the', 'front', 'runner', 'for', 'the', 'democratic', 'presidential', 'nomination', 'has', 'been', 'criticized', 'for', 'her', 'use', 'of', 'a', 'private', 'email', 'server', 'for', 'official', 'business', 'while', 'she', 'was', 'secretary', 'of', 'state', 'the', 'fbi', 'is', 'investigating', 'whether', 'her', 'home', 'server', 'was', 'breached', 'by', 'hackers', 'via', 'breitbart']\n",
      "['clay', 'aiken', 'says', 'he', 'was', 'a', 'f', 'g', 'dumbass', 'for', 'thinking', 'trump', 'wasn', 't', 'racist', 'former', 'american', 'idol', 'finalist', 'and', 'celebrity', 'apprentice', 'contestant', 'clay', 'aiken', 'has', 'never', 'been', 'a', 'fan', 'of', 'donald', 'trump', 'the', 'presidential', 'candidate', 'but', 'even', 'he', 'didn', 't', 'think', 'trump', 'was', 'a', 'fascist', 'and', 'a', 'racist', 'that', 's', 'all', 'changed', 'now', 'though', 'after', 'donald', 'trump', 'who', 'is', 'the', 'supposed', 'moral', 'leader', 'of', 'the', 'united', 'states', 'refused', 'to', 'condemn', 'white', 'nationalists', 'and', 'neo', 'nazis', 'in', 'an', 'insane', 'press', 'conference', 'on', 'tuesday', 'aiken', 'had', 'enough', 'after', 'saying', 'a', 'year', 'ago', 'i', 'don', 't', 'think', 'he', 's', 'a', 'fascist', 'i', 'don', 't', 'think', 'he', 's', 'a', 'racist', 'aiken', 'had', 'a', 'change', 'of', 'heart', 'remember', 'all', 'those', 'times', 'i', 'defended', 'realdonaldtrump', 'and', 'believed', 'he', 'was', 'not', 'actually', 'racist', 'well', 'i', 'am', 'a', 'f', 'g', 'dumbass', 'imsorry', 'clay', 'aiken', 'clayaiken', 'august', '15', '2017aiken', 'is', 'a', 'democrat', 'and', 'he', 'campaigned', 'for', 'hillary', 'clinton', 'he', 'knew', 'trump', 'would', 'be', 'a', 'horrible', 'president', 'but', 'as', 'a', 'person', 'he', 'gave', 'him', 'the', 'benefit', 'of', 'the', 'doubt', 'aiken', 'a', 'democrat', 'who', 'unsuccessfully', 'ran', 'for', 'congress', 'in', '2014', 'previously', 'said', 'he', 'liked', 'trump', 'even', 'though', 'they', 'disagreed', 'about', 'politics', 'in', '2015', 'aiken', 'told', 'cnn', 'that', 'he', 'considered', 'trump', 'to', 'be', 'a', 'friend', 'but', 'said', 'he', 's', 'like', 'that', 'uncle', 'who', 'embarrasses', 'the', 'hell', 'out', 'of', 'you', 'sometimes', 'and', 'you', 'still', 'love', 'them', 'but', 'damn', 'you', 'wish', 'they', 'd', 'shut', 'up', 'source', 'huffington', 'posttbc', 'i', 've', 'always', 'thought', 'he', 'would', 'be', 'a', 'dumpster', 'fire', 'as', 'a', 'president', 'and', 'i', 'was', 'right', 'about', 'that', 'i', 'just', 'didn', 't', 'think', 'he', 'was', 'racist', 'wrong', 'https', 't', 'co', '6ec0qm0wxw', 'clay', 'aiken', 'clayaiken', 'august', '15', '2017twitter', 'being', 'twitter', 'those', 'posts', 'became', 'divisive', 'with', 'aiken', 'being', 'attacked', 'from', 'both', 'the', 'right', 'and', 'the', 'left', 'pic', 'twitter', 'com', 'egifvxopmh', 'sol', 'soledadl_22', 'august', '16', '2017okay', 'aiken', 'might', 'be', 'late', 'in', 'realizing', 'that', 'trump', 'is', 'racist', 'but', 'he', 'never', 'supported', 'him', 'if', 'aiken', 'had', 'called', 'trump', 'racist', 'in', '2016', 'trump', 'would', 'still', 'be', 'in', 'office', 'darling', 'i', 'm', 'calm', 'down', 'but', 'we', 'all', 'knew', 'what', 'he', 'was', 'and', 'some', 'people', 'still', 'defended', 'him', 'u', 'apologizing', 'is', 'ok', 'in', 'my', 'book', 'but', 'changes', 'nothing', 'sol', 'soledadl_22', 'august', '16', '2017don', 't', 'take', 'it', 'so', 'hard', 'i', 'm', 'not', 'insulting', 'you', 'i', 'm', 'just', 'saying', 'unfortunately', 'it', 's', 'too', 'late', 'and', 'he', 'is', 'up', 'there', 'peace', 'sol', 'soledadl_22', 'august', '16', '2017clay', 'you', 're', 'being', 'stupid', 'now', 'the', 'real', 'racists', 'are', 'in', 'the', 'democrat', 'party', 'they', 'support', 'the', 'abortion', 'of', 'black', 'babies', 'at', 'a', 'high', 'rate', 'tom', 'snyder', 'ph', 'd', 'filmdoctor', 'august', '16', '2017while', 'i', 'm', 'infuriated', 'by', 'ppl', 'like', 'you', 'caitlin', 'jenner', 'susan', 'sarandon', 'for', 'supporting', 'this', 'nut', 'i', 'appreciate', 'the', 'admission', 'now', 'help', 'resist', 'gnomester210', 'noem210', 'august', '16', '2017yes', 'we', 'are', 'still', 'waiting', 'for', 'those', 'apologies', 'aiken', 'may', 'have', 'been', 'naive', 'but', 'at', 'least', 'he', 'now', 'admits', 'it', 'featured', 'image', 'via', 'jeffrey', 'a', 'camarati', 'getty', 'images']\n",
      "['u', 's', 'militia', 'girds', 'for', 'trouble', 'as', 'presidential', 'election', 'nears', 'jackson', 'ga', 'reuters', 'down', 'a', 'georgia', 'country', 'road', 'camouflaged', 'members', 'of', 'the', 'three', 'percent', 'security', 'force', 'have', 'mobilized', 'for', 'rifle', 'practice', 'hand', 'to', 'hand', 'combat', 'training', 'and', 'an', 'impromptu', 'campaign', 'rally', 'for', 'republican', 'presidential', 'candidate', 'donald', 'trump', 'how', 'many', 'people', 'are', 'voting', 'for', 'trump', 'ooh', 'rah', 'asks', 'chris', 'hill', 'a', 'paralegal', 'who', 'goes', 'by', 'the', 'code', 'name', 'bloodagent', 'ooh', 'rah', 'shout', 'a', 'dozen', 'militia', 'members', 'in', 'response', 'as', 'morning', 'sunlight', 'sifted', 'through', 'the', 'trees', 'last', 'weekend', 'as', 'the', 'most', 'divisive', 'presidential', 'election', 'in', 'recent', 'memory', 'nears', 'its', 'conclusion', 'some', 'armed', 'militia', 'groups', 'are', 'preparing', 'for', 'the', 'possibility', 'of', 'a', 'stolen', 'election', 'on', 'nov', '8', 'and', 'civil', 'unrest', 'in', 'the', 'days', 'following', 'a', 'victory', 'by', 'democrat', 'hillary', 'clinton', 'they', 'say', 'they', 'won', 't', 'fire', 'the', 'first', 'shot', 'but', 'they', 're', 'not', 'planning', 'to', 'leave', 'their', 'guns', 'at', 'home', 'either', 'trump', 's', 'populist', 'campaign', 'has', 'energized', 'militia', 'members', 'like', 'hill', 'who', 'admire', 'the', 'republican', 'mogul', 's', 'promise', 'to', 'deport', 'illegal', 'immigrants', 'stop', 'muslims', 'from', 'entering', 'the', 'country', 'and', 'build', 'a', 'wall', 'along', 'the', 'mexico', 'border', 'trump', 'has', 'repeatedly', 'warned', 'that', 'the', 'election', 'may', 'be', 'rigged', 'and', 'has', 'said', 'he', 'may', 'not', 'respect', 'the', 'results', 'if', 'he', 'does', 'not', 'win', 'at', 'least', 'one', 'paramilitary', 'group', 'the', 'oath', 'keepers', 'has', 'called', 'on', 'members', 'to', 'monitor', 'voting', 'sites', 'for', 'signs', 'of', 'fraud', 'armed', 'paramilitary', 'groups', 'first', 'gained', 'prominence', 'in', 'the', 'early', '1990s', 'fueled', 'by', 'confrontations', 'in', 'ruby', 'ridge', 'idaho', 'and', 'waco', 'texas', 'culminating', 'in', 'a', 'militia', 'sympathizer', 's', '1995', 'bombing', 'of', 'a', 'federal', 'office', 'building', 'in', 'oklahoma', 'city', 'that', 'killed', '168', 'people', 'their', 'numbers', 'dwindled', 'following', 'that', 'attack', 'but', 'have', 'spiked', 'in', 'recent', 'years', 'driven', 'by', 'fears', 'that', 'president', 'barack', 'obama', 'will', 'threaten', 'gun', 'ownership', 'and', 'erode', 'the', 'power', 'of', 'local', 'government', 'the', 'southern', 'poverty', 'law', 'center', 'which', 'tracks', 'extremist', 'groups', 'estimates', 'there', 'were', '276', 'active', 'militias', 'last', 'year', 'up', 'from', '42', 'in', '2008', 'in', 'recent', 'years', 'armed', 'groups', 'have', 'confronted', 'federal', 'authorities', 'in', 'a', 'series', 'of', 'land', 'use', 'disputes', 'in', 'the', 'western', 'united', 'states', 'federal', 'officials', 'fear', 'more', 'clashes', 'could', 'come', 'after', 'seven', 'militants', 'were', 'acquitted', 'on', 'conspiracy', 'charges', 'for', 'occupying', 'a', 'federal', 'wildlife', 'refuge', 'in', 'oregon', 'many', 'fear', 'clinton', 'would', 'push', 'the', 'county', 'further', 'to', 'the', 'left', 'this', 'is', 'the', 'last', 'chance', 'to', 'save', 'america', 'from', 'ruin', 'hill', 'said', 'i', 'm', 'surprised', 'i', 'was', 'able', 'to', 'survive', 'or', 'suffer', 'through', 'eight', 'years', 'of', 'obama', 'without', 'literally', 'going', 'insane', 'but', 'hillary', 'is', 'going', 'to', 'be', 'more', 'of', 'the', 'same', 'the', 'oath', 'keepers', 'a', 'prominent', 'anti', 'government', 'force', 'that', 'sent', 'gun', 'toting', 'members', 'to', 'the', '2014', 'race', 'riots', 'in', 'ferguson', 'missouri', 'called', 'on', 'members', 'last', 'week', 'to', 'monitor', 'voting', 'sites', 'on', 'election', 'day', 'for', 'any', 'signs', 'of', 'fraud', 'an', 'hour', 'south', 'of', 'atlanta', 'the', 'three', 'percent', 'security', 'force', 'started', 'the', 'day', 'around', 'the', 'campfire', 'taking', 'turns', 'shooting', 'automatic', 'pistols', 'and', 'rifles', 'at', 'a', 'makeshift', 'target', 'range', 'they', 'whooped', 'with', 'approval', 'when', 'blasts', 'from', 'one', 'member', 's', 'high', 'powered', 'rifle', 'knocked', 'down', 'a', 'tree', 'the', 'group', 'operates', 'independently', 'but', 'is', 'affiliated', 'with', 'a', 'national', 'armed', 'movement', 'that', 'calls', 'for', 'members', 'to', 'defend', 'individual', 'rights', 'in', 'the', 'face', 'of', 'what', 'they', 'see', 'as', 'an', 'overreaching', 'federal', 'government', 'the', 'movement', 'draws', 'its', 'name', 'from', 'the', 'notion', 'that', 'no', 'more', 'than', '3', 'percent', 'of', 'the', 'american', 'population', 'fought', 'in', 'the', 'revolutionary', 'war', 'against', 'britain', 'amid', 'the', 'war', 'games', 'hill', 'weighed', 'plans', 'for', 'a', 'possible', 'armed', 'march', 'on', 'washington', 'if', 'clinton', 'wins', 'he', 'said', 'he', 'doesn', 't', 'want', 'his', 'members', 'leading', 'the', 'way', 'but', 'they', 'will', 'defend', 'the', 'protesters', 'if', 'need', 'be', 'his', 'group', 'will', 'not', 'hesitate', 'to', 'act', 'if', 'a', 'president', 'clinton', 'tries', 'to', 'disarm', 'gun', 'owners', 'he', 'said', 'i', 'will', 'be', 'there', 'to', 'render', 'assistance', 'to', 'my', 'fellow', 'countrymen', 'and', 'prevent', 'them', 'from', 'being', 'disarmed', 'and', 'i', 'will', 'fight', 'and', 'i', 'will', 'kill', 'and', 'i', 'may', 'die', 'in', 'the', 'process', 'said', 'hill', 'who', 'founded', 'the', 'militia', 'several', 'years', 'ago', 'trump', 's', 'candidacy', 'has', 'emboldened', 'extremist', 'groups', 'to', 'speak', 'more', 'openly', 'about', 'challenging', 'the', 'rule', 'of', 'law', 'said', 'ryan', 'lenz', 'a', 'researcher', 'at', 'the', 'southern', 'poverty', 'law', 'center', 'prior', 'to', 'this', 'campaign', 'season', 'these', 'ideas', 'were', 'relegated', 'to', 'sort', 'of', 'the', 'political', 'fringe', 'of', 'the', 'american', 'political', 'landscape', 'he', 'said', 'now', 'these', 'ideas', 'are', 'legitimized', 'over', 'the', 'past', 'week', 'some', 'prominent', 'trump', 'supporters', 'have', 'hinted', 'at', 'violence', 'if', 'trump', 'loses', 'i', 'm', 'grabbing', 'my', 'musket', 'former', 'illinois', 'representative', 'joe', 'walsh', 'wrote', 'on', 'twitter', 'last', 'week', 'conservative', 'commentator', 'wayne', 'root', 'fantasized', 'about', 'clinton', 's', 'death', 'while', 'speaking', 'at', 'a', 'trump', 'rally', 'in', 'las', 'vegas', 'on', 'sunday', 'back', 'in', 'georgia', 'the', 'three', 'percent', 'security', 'force', 'wrapped', 'up', 'rifle', 'practice', 'in', 'the', 'midday', 'sun', 'they', 'then', 'headed', 'further', 'into', 'the', 'trees', 'to', 'tackle', 'an', 'obstacle', 'course', 'with', 'loaded', 'pistols', 'at', 'their', 'sides', 'ready', 'for', 'whatever', 'may', 'come', 'we', 've', 'building', 'up', 'for', 'this', 'just', 'like', 'the', 'marines', 'he', 'said', 'we', 'are', 'going', 'to', 'really', 'train', 'harder', 'and', 'try', 'to', 'increase', 'our', 'operational', 'capabilities', 'in', 'the', 'event', 'that', 'this', 'is', 'the', 'day', 'that', 'we', 'hoped', 'would', 'never', 'come']\n"
     ]
    }
   ],
   "source": [
    "# Preview the dataset\n",
    "for i in range(1,5):\n",
    "    print(data['article'][i])"
   ]
  },
  {
   "cell_type": "code",
   "execution_count": null,
   "metadata": {},
   "outputs": [],
   "source": []
  }
 ],
 "metadata": {
  "kernelspec": {
   "display_name": "Python 3.8.5 ('learn-env')",
   "language": "python",
   "name": "python3"
  },
  "language_info": {
   "codemirror_mode": {
    "name": "ipython",
    "version": 3
   },
   "file_extension": ".py",
   "mimetype": "text/x-python",
   "name": "python",
   "nbconvert_exporter": "python",
   "pygments_lexer": "ipython3",
   "version": "3.8.5"
  },
  "vscode": {
   "interpreter": {
    "hash": "5e0e2c372aabb972aee5d24acadebe02f5612d4ff5f794d4e03e46b1d04acb90"
   }
  }
 },
 "nbformat": 4,
 "nbformat_minor": 2
}
